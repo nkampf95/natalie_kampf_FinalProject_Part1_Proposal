{
 "cells": [
  {
   "cell_type": "markdown",
   "metadata": {},
   "source": [
    "**Final Project Part 1**"
   ]
  },
  {
   "cell_type": "markdown",
   "metadata": {},
   "source": [
    "Include the following in the Proposal: \n",
    "\n",
    "- The target variable you want to predict\n",
    "- How predicting that target variable could help with some kind of decision\n",
    "- The features you want to use to predict that target variable\n",
    "- Goals and success metrics\n",
    "- Risks or limitations"
   ]
  },
  {
   "cell_type": "markdown",
   "metadata": {},
   "source": [
    "**Target Variable I Want To Predict**"
   ]
  },
  {
   "cell_type": "markdown",
   "metadata": {},
   "source": [
    "I am looking at the Age-In to Medicare audience on Facebook (for a Health Care company) which has ads targetted to people in the New Jersey area who are ageing into medicare. The age in process starts at 64+6 months and runs through people in the age range of 65+1 month. \n",
    "\n",
    "The Target variables I want to predict is landing page views based on the effectivness of the creative in the other feature variables "
   ]
  },
  {
   "cell_type": "markdown",
   "metadata": {},
   "source": [
    "**How Predicting the target variable could help with some kind of decision**"
   ]
  },
  {
   "cell_type": "markdown",
   "metadata": {},
   "source": [
    "By predicting this target variable of landing page views for the Age-In to Medicare audience we will be able to better inform our client of what spend is necessary and what creative will be most effective - this will help with the campaign next year and possibly other campaigns that can take learnings on this product and apply them to future campaign development. "
   ]
  },
  {
   "cell_type": "markdown",
   "metadata": {},
   "source": [
    "**The features I want to use to predict the target variable**"
   ]
  },
  {
   "cell_type": "markdown",
   "metadata": {},
   "source": [
    "Frequency, impressions, spend, cost per click, click through rate, link clicks "
   ]
  },
  {
   "cell_type": "markdown",
   "metadata": {},
   "source": [
    "**Goals and success metrics**"
   ]
  },
  {
   "cell_type": "markdown",
   "metadata": {},
   "source": [
    "The goal is to be able to predict the landing page views for next years age-in campaign based cost, cost per click, link clicks, impressions, and click through rates. This data will then be used by my company to better inform out client and to better align creative spend and fund allocation based on ad performance of landing page views. \n",
    "\n",
    "The success metric would be able to reasonably predict the landing page views based on the other variables. \n",
    "\n"
   ]
  },
  {
   "cell_type": "markdown",
   "metadata": {},
   "source": [
    "**Risks or limitations**"
   ]
  },
  {
   "cell_type": "markdown",
   "metadata": {},
   "source": [
    "The risks and limitations of this project lie in the fact that not all ads can attribute landing page views whether that is a load error on the site or people clicking on the ads but not going to the landing page."
   ]
  },
  {
   "cell_type": "markdown",
   "metadata": {},
   "source": [
    "**Looking at the data**"
   ]
  },
  {
   "cell_type": "code",
   "execution_count": 11,
   "metadata": {},
   "outputs": [],
   "source": [
    "# Import libraries\n",
    "import matplotlib.pyplot as plt\n",
    "import numpy as np\n",
    "import pandas as pd\n",
    "import seaborn as sns"
   ]
  },
  {
   "cell_type": "code",
   "execution_count": 12,
   "metadata": {},
   "outputs": [],
   "source": [
    "\n",
    "%matplotlib inline"
   ]
  },
  {
   "cell_type": "code",
   "execution_count": 17,
   "metadata": {},
   "outputs": [],
   "source": [
    "\n",
    "# Import the data from csv\n",
    "age_in = pd.read_csv('AgeIn.csv')\n"
   ]
  },
  {
   "cell_type": "markdown",
   "metadata": {},
   "source": [
    "Looking at the Data\n",
    "\n",
    "- Does it have the target variable you want\n",
    "- Does it have feature columns that are plausibly predictive of the target variable\n",
    "- How many rows and columns does it have\n",
    "- How many values are missing in each column."
   ]
  },
  {
   "cell_type": "markdown",
   "metadata": {},
   "source": [
    "Target variable: The target variable is the landing page views. "
   ]
  },
  {
   "cell_type": "markdown",
   "metadata": {},
   "source": [
    "Feature columns: looking at the data below it does appear to have feature columns that potentially are predictive of the target variable"
   ]
  },
  {
   "cell_type": "code",
   "execution_count": 14,
   "metadata": {},
   "outputs": [
    {
     "data": {
      "text/html": [
       "<div>\n",
       "<style scoped>\n",
       "    .dataframe tbody tr th:only-of-type {\n",
       "        vertical-align: middle;\n",
       "    }\n",
       "\n",
       "    .dataframe tbody tr th {\n",
       "        vertical-align: top;\n",
       "    }\n",
       "\n",
       "    .dataframe thead th {\n",
       "        text-align: right;\n",
       "    }\n",
       "</style>\n",
       "<table border=\"1\" class=\"dataframe\">\n",
       "  <thead>\n",
       "    <tr style=\"text-align: right;\">\n",
       "      <th></th>\n",
       "      <th>Ad Name</th>\n",
       "      <th>Campaign Name</th>\n",
       "      <th>Reach</th>\n",
       "      <th>Impressions</th>\n",
       "      <th>Amount Spent (USD)</th>\n",
       "      <th>Frequency</th>\n",
       "      <th>Landing Page Views</th>\n",
       "      <th>Link Clicks</th>\n",
       "      <th>Cost per Landing Page View</th>\n",
       "      <th>CTR (All)</th>\n",
       "      <th>CTR (Link Click-Through Rate)</th>\n",
       "      <th>CPC (Cost per Link Click)</th>\n",
       "    </tr>\n",
       "  </thead>\n",
       "  <tbody>\n",
       "    <tr>\n",
       "      <th>0</th>\n",
       "      <td>65+1 mo Avoid Penalty 19SOC-BDA4-C2</td>\n",
       "      <td>BDAY/NTM April Birthdays</td>\n",
       "      <td>8242</td>\n",
       "      <td>28281</td>\n",
       "      <td>736.24</td>\n",
       "      <td>3.431327</td>\n",
       "      <td>4.0</td>\n",
       "      <td>281.0</td>\n",
       "      <td>184.06</td>\n",
       "      <td>1.584102</td>\n",
       "      <td>0.993600</td>\n",
       "      <td>2.620071</td>\n",
       "    </tr>\n",
       "    <tr>\n",
       "      <th>1</th>\n",
       "      <td>64+11 MedSup Image Carousel 19SOC-BDA3-C3</td>\n",
       "      <td>BDAY/NTM April Birthdays</td>\n",
       "      <td>2621</td>\n",
       "      <td>24709</td>\n",
       "      <td>619.10</td>\n",
       "      <td>9.427318</td>\n",
       "      <td>5.0</td>\n",
       "      <td>155.0</td>\n",
       "      <td>123.82</td>\n",
       "      <td>0.777045</td>\n",
       "      <td>0.627302</td>\n",
       "      <td>3.994194</td>\n",
       "    </tr>\n",
       "    <tr>\n",
       "      <th>2</th>\n",
       "      <td>64+11 MedSup Image Carousel 19SOC-BDA3-C3</td>\n",
       "      <td>BDAY/NTM June Birthdays</td>\n",
       "      <td>1951</td>\n",
       "      <td>16313</td>\n",
       "      <td>579.15</td>\n",
       "      <td>8.361353</td>\n",
       "      <td>9.0</td>\n",
       "      <td>109.0</td>\n",
       "      <td>64.35</td>\n",
       "      <td>0.956293</td>\n",
       "      <td>0.668179</td>\n",
       "      <td>5.313303</td>\n",
       "    </tr>\n",
       "    <tr>\n",
       "      <th>3</th>\n",
       "      <td>64+11 MedSup Image Carousel 19SOC-BDA3-C3</td>\n",
       "      <td>BDAY/NTM July Birthdays</td>\n",
       "      <td>2426</td>\n",
       "      <td>21928</td>\n",
       "      <td>572.16</td>\n",
       "      <td>9.038747</td>\n",
       "      <td>32.0</td>\n",
       "      <td>135.0</td>\n",
       "      <td>17.88</td>\n",
       "      <td>0.916636</td>\n",
       "      <td>0.615651</td>\n",
       "      <td>4.238222</td>\n",
       "    </tr>\n",
       "    <tr>\n",
       "      <th>4</th>\n",
       "      <td>65+1 mo Avoid Penalty 19SOC-BDA4-C2</td>\n",
       "      <td>BDAY/NTM January Birthdays</td>\n",
       "      <td>8821</td>\n",
       "      <td>26372</td>\n",
       "      <td>489.63</td>\n",
       "      <td>2.989684</td>\n",
       "      <td>1.0</td>\n",
       "      <td>152.0</td>\n",
       "      <td>489.63</td>\n",
       "      <td>1.448506</td>\n",
       "      <td>0.576369</td>\n",
       "      <td>3.221250</td>\n",
       "    </tr>\n",
       "  </tbody>\n",
       "</table>\n",
       "</div>"
      ],
      "text/plain": [
       "                                     Ad Name               Campaign Name  \\\n",
       "0        65+1 mo Avoid Penalty 19SOC-BDA4-C2    BDAY/NTM April Birthdays   \n",
       "1  64+11 MedSup Image Carousel 19SOC-BDA3-C3    BDAY/NTM April Birthdays   \n",
       "2  64+11 MedSup Image Carousel 19SOC-BDA3-C3     BDAY/NTM June Birthdays   \n",
       "3  64+11 MedSup Image Carousel 19SOC-BDA3-C3     BDAY/NTM July Birthdays   \n",
       "4        65+1 mo Avoid Penalty 19SOC-BDA4-C2  BDAY/NTM January Birthdays   \n",
       "\n",
       "   Reach  Impressions  Amount Spent (USD)  Frequency  Landing Page Views  \\\n",
       "0   8242        28281              736.24   3.431327                 4.0   \n",
       "1   2621        24709              619.10   9.427318                 5.0   \n",
       "2   1951        16313              579.15   8.361353                 9.0   \n",
       "3   2426        21928              572.16   9.038747                32.0   \n",
       "4   8821        26372              489.63   2.989684                 1.0   \n",
       "\n",
       "   Link Clicks  Cost per Landing Page View  CTR (All)  \\\n",
       "0        281.0                      184.06   1.584102   \n",
       "1        155.0                      123.82   0.777045   \n",
       "2        109.0                       64.35   0.956293   \n",
       "3        135.0                       17.88   0.916636   \n",
       "4        152.0                      489.63   1.448506   \n",
       "\n",
       "   CTR (Link Click-Through Rate)  CPC (Cost per Link Click)  \n",
       "0                       0.993600                   2.620071  \n",
       "1                       0.627302                   3.994194  \n",
       "2                       0.668179                   5.313303  \n",
       "3                       0.615651                   4.238222  \n",
       "4                       0.576369                   3.221250  "
      ]
     },
     "execution_count": 14,
     "metadata": {},
     "output_type": "execute_result"
    }
   ],
   "source": [
    "age_in.head()"
   ]
  },
  {
   "cell_type": "markdown",
   "metadata": {},
   "source": [
    "**How many rows and columns does it have**"
   ]
  },
  {
   "cell_type": "code",
   "execution_count": 10,
   "metadata": {},
   "outputs": [
    {
     "data": {
      "text/plain": [
       "(101, 12)"
      ]
     },
     "execution_count": 10,
     "metadata": {},
     "output_type": "execute_result"
    }
   ],
   "source": [
    "age_in.shape"
   ]
  },
  {
   "cell_type": "markdown",
   "metadata": {},
   "source": [
    "age_in has 101 rows and 12 columns. "
   ]
  },
  {
   "cell_type": "markdown",
   "metadata": {},
   "source": [
    "**How many values are missing in each column.**"
   ]
  },
  {
   "cell_type": "code",
   "execution_count": 9,
   "metadata": {},
   "outputs": [
    {
     "data": {
      "text/plain": [
       "Ad Name                           0\n",
       "Campaign Name                     0\n",
       "Reach                             0\n",
       "Impressions                       0\n",
       "Amount Spent (USD)                0\n",
       "Frequency                         0\n",
       "Landing Page Views               53\n",
       "Link Clicks                       3\n",
       "Cost per Landing Page View       53\n",
       "CTR (All)                         0\n",
       "CTR (Link Click-Through Rate)     3\n",
       "CPC (Cost per Link Click)         3\n",
       "dtype: int64"
      ]
     },
     "execution_count": 9,
     "metadata": {},
     "output_type": "execute_result"
    }
   ],
   "source": [
    "age_in.isnull().sum()"
   ]
  },
  {
   "cell_type": "markdown",
   "metadata": {},
   "source": [
    "In this we can see that Landing page views, CPC, CTR, and cost per landing page view have missing rows. This appears normal to me as having monitored this campaign some of the ads did not get landing page views as some people would click on the ad but not want to go to the landing page or there is a load error with the landing page. "
   ]
  },
  {
   "cell_type": "code",
   "execution_count": null,
   "metadata": {},
   "outputs": [],
   "source": []
  }
 ],
 "metadata": {
  "kernelspec": {
   "display_name": "Python 3",
   "language": "python",
   "name": "python3"
  },
  "language_info": {
   "codemirror_mode": {
    "name": "ipython",
    "version": 3
   },
   "file_extension": ".py",
   "mimetype": "text/x-python",
   "name": "python",
   "nbconvert_exporter": "python",
   "pygments_lexer": "ipython3",
   "version": "3.7.3"
  }
 },
 "nbformat": 4,
 "nbformat_minor": 2
}
